{
 "cells": [
  {
   "cell_type": "markdown",
   "metadata": {},
   "source": [
    "# Assignment No 10"
   ]
  },
  {
   "cell_type": "markdown",
   "metadata": {},
   "source": [
    "Question 1"
   ]
  },
  {
   "cell_type": "code",
   "execution_count": 1,
   "metadata": {},
   "outputs": [],
   "source": []
  },
  {
   "cell_type": "markdown",
   "metadata": {},
   "source": [
    "import shutil\n",
    "shutil.copy('src','dstn') # This function return content of source file to destination file, It also preserves the mode of file   \n",
    "shutil.copytree() # This function copies entire tree routed at source to destination"
   ]
  },
  {
   "cell_type": "markdown",
   "metadata": {},
   "source": [
    "Question 2"
   ]
  },
  {
   "cell_type": "code",
   "execution_count": null,
   "metadata": {},
   "outputs": [],
   "source": []
  },
  {
   "cell_type": "code",
   "execution_count": 5,
   "metadata": {},
   "outputs": [],
   "source": [
    "import os\n",
    "os.rename('test.txt','mytest.txt') # Rename file "
   ]
  },
  {
   "cell_type": "markdown",
   "metadata": {},
   "source": [
    "Question 3"
   ]
  },
  {
   "cell_type": "code",
   "execution_count": null,
   "metadata": {},
   "outputs": [],
   "source": []
  },
  {
   "cell_type": "code",
   "execution_count": 12,
   "metadata": {},
   "outputs": [],
   "source": [
    "import send2trash\n",
    "send2trash.send2trash('myfile.txt') # Deletes file from current working directory and send it to recycle bin from where we can restore it.\n",
    "import shutil\n",
    "shutil.rmtree('myassignment') # Deletes file permanantly from the system. Not able to restore it"
   ]
  },
  {
   "cell_type": "code",
   "execution_count": null,
   "metadata": {},
   "outputs": [],
   "source": []
  },
  {
   "cell_type": "markdown",
   "metadata": {},
   "source": [
    "Question 4"
   ]
  },
  {
   "cell_type": "code",
   "execution_count": null,
   "metadata": {},
   "outputs": [],
   "source": []
  },
  {
   "cell_type": "code",
   "execution_count": 32,
   "metadata": {},
   "outputs": [],
   "source": [
    "from zipfile import ZipFile\n",
    "x=ZipFile('abc.zip','w')  # by using this method we need to open the zipfile\n",
    "x.write(\"abc.zip\")\n",
    "x.close()"
   ]
  },
  {
   "cell_type": "markdown",
   "metadata": {},
   "source": [
    "Question 5"
   ]
  },
  {
   "cell_type": "code",
   "execution_count": null,
   "metadata": {},
   "outputs": [],
   "source": []
  },
  {
   "cell_type": "code",
   "execution_count": 12,
   "metadata": {},
   "outputs": [
    {
     "name": "stdout",
     "output_type": "stream",
     "text": [
      "E:\\mobile photos\\20210110_230212.jpg Successfully copied\n",
      "E:\\mobile photos\\20210110_230215.jpg Successfully copied\n",
      "E:\\mobile photos\\20210110_230253.jpg Successfully copied\n",
      "E:\\mobile photos\\20210110_230258.jpg Successfully copied\n",
      "E:\\mobile photos\\20210110_230259.jpg Successfully copied\n",
      "E:\\mobile photos\\20210110_230300.jpg Successfully copied\n",
      "E:\\mobile photos\\20210110_230302.jpg Successfully copied\n",
      "E:\\mobile photos\\20210116_193725.jpg Successfully copied\n",
      "E:\\mobile photos\\20210131_081739.jpg Successfully copied\n",
      "E:\\mobile photos\\20210131_081740(0).jpg Successfully copied\n",
      "E:\\mobile photos\\20210131_081740.jpg Successfully copied\n",
      "E:\\mobile photos\\20210213_071502.jpg Successfully copied\n",
      "E:\\mobile photos\\20210213_071505.jpg Successfully copied\n",
      "E:\\mobile photos\\20210214_100353.jpg Successfully copied\n",
      "E:\\mobile photos\\20210214_100355.jpg Successfully copied\n",
      "E:\\mobile photos\\20210404_211154.jpg Successfully copied\n",
      "E:\\mobile photos\\20210404_211156-removebg-preview.jpg Successfully copied\n",
      "E:\\mobile photos\\20210404_211156.jpg Successfully copied\n",
      "E:\\mobile photos\\20210405_113352.jpg Successfully copied\n",
      "E:\\mobile photos\\download.jpg Successfully copied\n",
      "E:\\mobile photos\\IMG-20201228-WA0002.jpg Successfully copied\n",
      "E:\\mobile photos\\IMG-20210109-WA0010.jpg Successfully copied\n",
      "E:\\mobile photos\\IMG-20210111-WA0007.jpg Successfully copied\n",
      "E:\\mobile photos\\IMG-20210111-WA0008.jpg Successfully copied\n",
      "E:\\mobile photos\\IMG-20210111-WA0009.jpg Successfully copied\n",
      "E:\\mobile photos\\IMG-20210111-WA0011.jpg Successfully copied\n",
      "E:\\mobile photos\\IMG-20210111-WA0012.jpg Successfully copied\n",
      "E:\\mobile photos\\IMG-20210111-WA0013.jpg Successfully copied\n",
      "E:\\mobile photos\\IMG-20210111-WA0014.jpg Successfully copied\n",
      "E:\\mobile photos\\IMG-20210111-WA0015.jpg Successfully copied\n",
      "E:\\mobile photos\\IMG-20210111-WA0016.jpg Successfully copied\n",
      "E:\\mobile photos\\IMG-20210119-WA0007.jpg Successfully copied\n",
      "E:\\mobile photos\\IMG-20210204-WA0002.jpg Successfully copied\n",
      "E:\\mobile photos\\IMG-20210205-WA0003.jpg Successfully copied\n",
      "E:\\mobile photos\\IMG-20210205-WA0004.jpg Successfully copied\n",
      "E:\\mobile photos\\IMG-20210210-WA0003.jpg Successfully copied\n",
      "E:\\mobile photos\\IMG-20210211-WA0000.jpg Successfully copied\n",
      "E:\\mobile photos\\IMG-20210211-WA0005.jpg Successfully copied\n",
      "E:\\mobile photos\\IMG-20210211-WA0006.jpg Successfully copied\n",
      "E:\\mobile photos\\IMG-20210211-WA0007.jpg Successfully copied\n",
      "E:\\mobile photos\\IMG-20210211-WA0008.jpg Successfully copied\n",
      "E:\\mobile photos\\IMG-20210211-WA0009.jpg Successfully copied\n",
      "E:\\mobile photos\\IMG-20210211-WA0010.jpg Successfully copied\n",
      "E:\\mobile photos\\IMG-20210211-WA0011.jpg Successfully copied\n",
      "E:\\mobile photos\\IMG-20210213-WA0010.jpg Successfully copied\n",
      "E:\\mobile photos\\IMG-20210213-WA0011.jpg Successfully copied\n",
      "E:\\mobile photos\\IMG-20210213-WA0012.jpg Successfully copied\n",
      "E:\\mobile photos\\IMG-20210215-WA0004.jpg Successfully copied\n",
      "E:\\mobile photos\\IMG-20210218-WA0002.jpg Successfully copied\n",
      "E:\\mobile photos\\IMG-20210222-WA0001.jpg Successfully copied\n",
      "E:\\mobile photos\\IMG-20210302-WA0005.jpg Successfully copied\n",
      "E:\\mobile photos\\IMG-20210319-WA0000.jpg Successfully copied\n",
      "E:\\mobile photos\\IMG-20210320-WA0001.jpg Successfully copied\n",
      "E:\\mobile photos\\IMG-20210320-WA0002.jpg Successfully copied\n",
      "E:\\mobile photos\\IMG-20210320-WA0003.jpg Successfully copied\n",
      "E:\\mobile photos\\IMG-20210320-WA0004.jpg Successfully copied\n",
      "E:\\mobile photos\\IMG-20210320-WA0005.jpg Successfully copied\n",
      "E:\\mobile photos\\IMG-20210320-WA0009.jpg Successfully copied\n",
      "E:\\mobile photos\\IMG-20210328-WA0001.jpg Successfully copied\n",
      "E:\\mobile photos\\IMG-20210402-WA0000.jpg Successfully copied\n",
      "E:\\mobile photos\\IMG-20210404-WA0000.jpg Successfully copied\n",
      "E:\\mobile photos\\IMG-20210405-WA0000.jpg Successfully copied\n",
      "E:\\mobile photos\\IMG-20210406-WA0001.jpg Successfully copied\n",
      "E:\\mobile photos\\IMG-20210406-WA0004.jpg Successfully copied\n",
      "E:\\mobile photos\\IMG-20210406-WA0005.jpg Successfully copied\n",
      "E:\\mobile photos\\IMG-20210406-WA0006.jpg Successfully copied\n",
      "E:\\mobile photos\\IMG-20210406-WA0007.jpg Successfully copied\n",
      "E:\\mobile photos\\IMG-20210406-WA0008.jpg Successfully copied\n",
      "E:\\mobile photos\\IMG-20210406-WA0009.jpg Successfully copied\n",
      "E:\\mobile photos\\IMG-20210407-WA0001.jpg Successfully copied\n",
      "E:\\mobile photos\\IMG-20210407-WA0002.jpg Successfully copied\n",
      "E:\\mobile photos\\IMG-20210408-WA0000.jpg Successfully copied\n",
      "E:\\mobile photos\\IMG-20210408-WA0001.jpg Successfully copied\n",
      "E:\\mobile photos\\IMG-20210408-WA0002.jpg Successfully copied\n",
      "E:\\mobile photos\\IMG-20210408-WA0003.jpg Successfully copied\n",
      "E:\\mobile photos\\IMG-20210408-WA0005.jpg Successfully copied\n",
      "E:\\mobile photos\\IMG-20210408-WA0006.jpg Successfully copied\n",
      "E:\\mobile photos\\IMG-20210409-WA0001.jpg Successfully copied\n",
      "E:\\mobile photos\\Private\\.nomedia Successfully copied\n"
     ]
    },
    {
     "data": {
      "text/plain": [
       "['20210110_230212',\n",
       " '20210110_230215',\n",
       " '20210110_230253',\n",
       " '20210110_230258',\n",
       " '20210110_230259',\n",
       " '20210110_230300',\n",
       " '20210110_230302',\n",
       " '20210116_193725',\n",
       " '20210131_081739',\n",
       " '20210131_081740(0)',\n",
       " '20210131_081740',\n",
       " '20210213_071502',\n",
       " '20210213_071505',\n",
       " '20210214_100353',\n",
       " '20210214_100355',\n",
       " '20210404_211154',\n",
       " '20210404_211156-removebg-preview',\n",
       " '20210404_211156',\n",
       " '20210405_113352',\n",
       " 'download',\n",
       " 'IMG-20201228-WA0002',\n",
       " 'IMG-20210109-WA0010',\n",
       " 'IMG-20210111-WA0007',\n",
       " 'IMG-20210111-WA0008',\n",
       " 'IMG-20210111-WA0009',\n",
       " 'IMG-20210111-WA0011',\n",
       " 'IMG-20210111-WA0012',\n",
       " 'IMG-20210111-WA0013',\n",
       " 'IMG-20210111-WA0014',\n",
       " 'IMG-20210111-WA0015',\n",
       " 'IMG-20210111-WA0016',\n",
       " 'IMG-20210119-WA0007',\n",
       " 'IMG-20210204-WA0002',\n",
       " 'IMG-20210205-WA0003',\n",
       " 'IMG-20210205-WA0004',\n",
       " 'IMG-20210210-WA0003',\n",
       " 'IMG-20210211-WA0000',\n",
       " 'IMG-20210211-WA0005',\n",
       " 'IMG-20210211-WA0006',\n",
       " 'IMG-20210211-WA0007',\n",
       " 'IMG-20210211-WA0008',\n",
       " 'IMG-20210211-WA0009',\n",
       " 'IMG-20210211-WA0010',\n",
       " 'IMG-20210211-WA0011',\n",
       " 'IMG-20210213-WA0010',\n",
       " 'IMG-20210213-WA0011',\n",
       " 'IMG-20210213-WA0012',\n",
       " 'IMG-20210215-WA0004',\n",
       " 'IMG-20210218-WA0002',\n",
       " 'IMG-20210222-WA0001',\n",
       " 'IMG-20210302-WA0005',\n",
       " 'IMG-20210319-WA0000',\n",
       " 'IMG-20210320-WA0001',\n",
       " 'IMG-20210320-WA0002',\n",
       " 'IMG-20210320-WA0003',\n",
       " 'IMG-20210320-WA0004',\n",
       " 'IMG-20210320-WA0005',\n",
       " 'IMG-20210320-WA0009',\n",
       " 'IMG-20210328-WA0001',\n",
       " 'IMG-20210402-WA0000',\n",
       " 'IMG-20210404-WA0000',\n",
       " 'IMG-20210405-WA0000',\n",
       " 'IMG-20210406-WA0001',\n",
       " 'IMG-20210406-WA0004',\n",
       " 'IMG-20210406-WA0005',\n",
       " 'IMG-20210406-WA0006',\n",
       " 'IMG-20210406-WA0007',\n",
       " 'IMG-20210406-WA0008',\n",
       " 'IMG-20210406-WA0009',\n",
       " 'IMG-20210407-WA0001',\n",
       " 'IMG-20210407-WA0002',\n",
       " 'IMG-20210408-WA0000',\n",
       " 'IMG-20210408-WA0001',\n",
       " 'IMG-20210408-WA0002',\n",
       " 'IMG-20210408-WA0003',\n",
       " 'IMG-20210408-WA0005',\n",
       " 'IMG-20210408-WA0006',\n",
       " 'IMG-20210409-WA0001',\n",
       " '.nomedia']"
      ]
     },
     "execution_count": 12,
     "metadata": {},
     "output_type": "execute_result"
    }
   ],
   "source": [
    "import os, shutil\n",
    "\n",
    "def pdf_jpgfinder_copy(folder,extension,destination_folder):# Function for extract pdf and jpg file and copy to the destination\n",
    "    try:\n",
    "        list1=[]\n",
    "        folder=os.path.abspath(folder)  # returns absolute version of path\n",
    "        for folder,subfolder,filenames in os.walk(folder): # iterate thourgh folder path\n",
    "            \n",
    "            for filename in filenames: # extract filename\n",
    "            \n",
    "                name,extn=os.path.splitext(filename) # split filename and its extension\n",
    "                if extn in extension: # Check extension is as passed as parameter\n",
    "                    list1.append(name) # Save a filename in list\n",
    "                    abspath=folder+os.path.sep+filename\n",
    "                    shutil.copy(abspath,destination_folder) #Copy file in destination address\n",
    "                    print(abspath, 'Successfully copied') # Print message as copy successfull\n",
    "        return list1\n",
    "    \n",
    "    except Exception as ae:\n",
    "        print(ae)\n",
    "        \n",
    "pdf_jpgfinder_copy('E:\\mobile photos','.jpg','E:\\mycopy')"
   ]
  }
 ],
 "metadata": {
  "kernelspec": {
   "display_name": "Python 3",
   "language": "python",
   "name": "python3"
  },
  "language_info": {
   "codemirror_mode": {
    "name": "ipython",
    "version": 3
   },
   "file_extension": ".py",
   "mimetype": "text/x-python",
   "name": "python",
   "nbconvert_exporter": "python",
   "pygments_lexer": "ipython3",
   "version": "3.7.1"
  }
 },
 "nbformat": 4,
 "nbformat_minor": 2
}
